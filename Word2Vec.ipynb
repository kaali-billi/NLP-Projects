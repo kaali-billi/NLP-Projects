{
 "cells": [
  {
   "cell_type": "code",
   "execution_count": 71,
   "metadata": {},
   "outputs": [],
   "source": [
    "import tensorflow as tf"
   ]
  },
  {
   "cell_type": "code",
   "execution_count": 72,
   "metadata": {},
   "outputs": [],
   "source": [
    "import pandas as pd\n",
    "import numpy as np\n",
    "from sklearn.model_selection import train_test_split"
   ]
  },
  {
   "cell_type": "code",
   "execution_count": 73,
   "metadata": {},
   "outputs": [],
   "source": [
    "import tflearn\n"
   ]
  },
  {
   "cell_type": "code",
   "execution_count": 74,
   "metadata": {},
   "outputs": [],
   "source": [
    "import data_helper\n"
   ]
  },
  {
   "cell_type": "code",
   "execution_count": 75,
   "metadata": {},
   "outputs": [],
   "source": [
    "df_clothing = pd.read_json('Clothing_Shoes_and_Jewelry_5.json', lines = True)"
   ]
  },
  {
   "cell_type": "code",
   "execution_count": 76,
   "metadata": {},
   "outputs": [],
   "source": [
    "df_sports = pd.read_json('Sports_and_Outdoors_5.json', lines = True )"
   ]
  },
  {
   "cell_type": "code",
   "execution_count": 77,
   "metadata": {},
   "outputs": [],
   "source": [
    "df = pd.concat([df_clothing,df_sports])"
   ]
  },
  {
   "cell_type": "code",
   "execution_count": null,
   "metadata": {},
   "outputs": [],
   "source": []
  },
  {
   "cell_type": "code",
   "execution_count": null,
   "metadata": {},
   "outputs": [],
   "source": []
  },
  {
   "cell_type": "code",
   "execution_count": 78,
   "metadata": {},
   "outputs": [
    {
     "data": {
      "text/html": [
       "<div>\n",
       "<style scoped>\n",
       "    .dataframe tbody tr th:only-of-type {\n",
       "        vertical-align: middle;\n",
       "    }\n",
       "\n",
       "    .dataframe tbody tr th {\n",
       "        vertical-align: top;\n",
       "    }\n",
       "\n",
       "    .dataframe thead th {\n",
       "        text-align: right;\n",
       "    }\n",
       "</style>\n",
       "<table border=\"1\" class=\"dataframe\">\n",
       "  <thead>\n",
       "    <tr style=\"text-align: right;\">\n",
       "      <th></th>\n",
       "      <th>asin</th>\n",
       "      <th>helpful</th>\n",
       "      <th>overall</th>\n",
       "      <th>reviewText</th>\n",
       "      <th>reviewTime</th>\n",
       "      <th>reviewerID</th>\n",
       "      <th>reviewerName</th>\n",
       "      <th>summary</th>\n",
       "      <th>unixReviewTime</th>\n",
       "    </tr>\n",
       "  </thead>\n",
       "  <tbody>\n",
       "    <tr>\n",
       "      <th>0</th>\n",
       "      <td>0000031887</td>\n",
       "      <td>[0, 0]</td>\n",
       "      <td>5</td>\n",
       "      <td>This is a great tutu and at a really great pri...</td>\n",
       "      <td>02 12, 2011</td>\n",
       "      <td>A1KLRMWW2FWPL4</td>\n",
       "      <td>Amazon Customer \"cameramom\"</td>\n",
       "      <td>Great tutu-  not cheaply made</td>\n",
       "      <td>1297468800</td>\n",
       "    </tr>\n",
       "    <tr>\n",
       "      <th>1</th>\n",
       "      <td>0000031887</td>\n",
       "      <td>[0, 0]</td>\n",
       "      <td>5</td>\n",
       "      <td>I bought this for my 4 yr old daughter for dan...</td>\n",
       "      <td>01 19, 2013</td>\n",
       "      <td>A2G5TCU2WDFZ65</td>\n",
       "      <td>Amazon Customer</td>\n",
       "      <td>Very Cute!!</td>\n",
       "      <td>1358553600</td>\n",
       "    </tr>\n",
       "    <tr>\n",
       "      <th>2</th>\n",
       "      <td>0000031887</td>\n",
       "      <td>[0, 0]</td>\n",
       "      <td>5</td>\n",
       "      <td>What can I say... my daughters have it in oran...</td>\n",
       "      <td>01 4, 2013</td>\n",
       "      <td>A1RLQXYNCMWRWN</td>\n",
       "      <td>Carola</td>\n",
       "      <td>I have buy more than one</td>\n",
       "      <td>1357257600</td>\n",
       "    </tr>\n",
       "    <tr>\n",
       "      <th>3</th>\n",
       "      <td>0000031887</td>\n",
       "      <td>[0, 0]</td>\n",
       "      <td>5</td>\n",
       "      <td>We bought several tutus at once, and they are ...</td>\n",
       "      <td>04 27, 2014</td>\n",
       "      <td>A8U3FAMSJVHS5</td>\n",
       "      <td>Caromcg</td>\n",
       "      <td>Adorable, Sturdy</td>\n",
       "      <td>1398556800</td>\n",
       "    </tr>\n",
       "    <tr>\n",
       "      <th>4</th>\n",
       "      <td>0000031887</td>\n",
       "      <td>[0, 0]</td>\n",
       "      <td>5</td>\n",
       "      <td>Thank you Halo Heaven great product for Little...</td>\n",
       "      <td>03 15, 2014</td>\n",
       "      <td>A3GEOILWLK86XM</td>\n",
       "      <td>CJ</td>\n",
       "      <td>Grammy's Angels Love it</td>\n",
       "      <td>1394841600</td>\n",
       "    </tr>\n",
       "  </tbody>\n",
       "</table>\n",
       "</div>"
      ],
      "text/plain": [
       "         asin helpful  overall  \\\n",
       "0  0000031887  [0, 0]        5   \n",
       "1  0000031887  [0, 0]        5   \n",
       "2  0000031887  [0, 0]        5   \n",
       "3  0000031887  [0, 0]        5   \n",
       "4  0000031887  [0, 0]        5   \n",
       "\n",
       "                                          reviewText   reviewTime  \\\n",
       "0  This is a great tutu and at a really great pri...  02 12, 2011   \n",
       "1  I bought this for my 4 yr old daughter for dan...  01 19, 2013   \n",
       "2  What can I say... my daughters have it in oran...   01 4, 2013   \n",
       "3  We bought several tutus at once, and they are ...  04 27, 2014   \n",
       "4  Thank you Halo Heaven great product for Little...  03 15, 2014   \n",
       "\n",
       "       reviewerID                 reviewerName                        summary  \\\n",
       "0  A1KLRMWW2FWPL4  Amazon Customer \"cameramom\"  Great tutu-  not cheaply made   \n",
       "1  A2G5TCU2WDFZ65              Amazon Customer                    Very Cute!!   \n",
       "2  A1RLQXYNCMWRWN                       Carola       I have buy more than one   \n",
       "3   A8U3FAMSJVHS5                      Caromcg               Adorable, Sturdy   \n",
       "4  A3GEOILWLK86XM                           CJ        Grammy's Angels Love it   \n",
       "\n",
       "   unixReviewTime  \n",
       "0      1297468800  \n",
       "1      1358553600  \n",
       "2      1357257600  \n",
       "3      1398556800  \n",
       "4      1394841600  "
      ]
     },
     "execution_count": 78,
     "metadata": {},
     "output_type": "execute_result"
    }
   ],
   "source": [
    "df.head()"
   ]
  },
  {
   "cell_type": "code",
   "execution_count": 79,
   "metadata": {},
   "outputs": [],
   "source": [
    "reviews = df['reviewText'].values"
   ]
  },
  {
   "cell_type": "code",
   "execution_count": 80,
   "metadata": {},
   "outputs": [],
   "source": [
    "del df"
   ]
  },
  {
   "cell_type": "code",
   "execution_count": 81,
   "metadata": {},
   "outputs": [],
   "source": [
    "reviews_text = [data_helper.clean_str(sent) for sent in reviews]"
   ]
  },
  {
   "cell_type": "code",
   "execution_count": 82,
   "metadata": {},
   "outputs": [],
   "source": [
    "max_sent_length = 100"
   ]
  },
  {
   "cell_type": "code",
   "execution_count": 83,
   "metadata": {},
   "outputs": [],
   "source": [
    "vocab_processor = tflearn.data_utils.VocabularyProcessor(max_sent_length)"
   ]
  },
  {
   "cell_type": "code",
   "execution_count": 84,
   "metadata": {},
   "outputs": [],
   "source": [
    "data = list(vocab_processor.fit_transform(reviews_text))"
   ]
  },
  {
   "cell_type": "code",
   "execution_count": 85,
   "metadata": {},
   "outputs": [],
   "source": [
    "vocab_size = len(vocab_processor.vocabulary_)\n",
    "data = [i.tolist() for i in data]\n",
    "for lst in data:\n",
    "    try:\n",
    "        ##pop off last index if it is equal to 0\n",
    "        while lst[-1] == 0:\n",
    "            lst.pop()\n",
    "    except:\n",
    "        pass\n"
   ]
  },
  {
   "cell_type": "code",
   "execution_count": 49,
   "metadata": {},
   "outputs": [],
   "source": [
    "data = np.array(list(data))"
   ]
  },
  {
   "cell_type": "code",
   "execution_count": 50,
   "metadata": {},
   "outputs": [
    {
     "data": {
      "text/plain": [
       "array([list([1, 2, 3, 4, 5, 6, 7, 3, 8, 4, 9, 10, 11, 12, 13, 14, 7, 15, 16, 17, 18, 19, 20, 21, 22, 6, 23, 24, 25, 26, 5, 27, 2, 12, 28, 29, 3]),\n",
       "       list([19, 30, 1, 31, 32, 33, 34, 35, 36, 31, 37, 38, 39, 40, 10, 41, 31, 42, 43, 44, 6, 42, 45, 46, 10, 47, 48, 19, 30, 1, 49, 50, 51, 3, 52, 53, 54, 55, 56, 6, 47, 57, 42, 58, 59, 60, 4, 9, 47, 61, 62, 63, 64, 65, 66, 67, 50, 31, 68, 69, 70, 71]),\n",
       "       list([72, 73, 19, 74, 32, 75, 76, 10, 77, 78, 79, 80, 6, 81, 6, 19, 82, 83, 49, 84, 31, 85, 42, 86, 87, 10, 2, 3, 61, 62, 88, 31, 89, 3, 90, 91, 4, 58, 92, 93, 4, 94, 49, 95, 96, 6, 97, 98, 99, 10, 19, 100, 10, 2, 3, 4, 84, 31, 101, 6, 102, 63]),\n",
       "       ...,\n",
       "       list([1, 168533, 3761, 1647, 6117, 3128, 4322, 2569, 4178, 2, 4, 21, 3, 888, 276, 2051, 873, 12885, 5072, 31, 560, 288, 1940, 435, 146, 325, 65, 4809, 19734, 10, 151, 1920, 250, 1, 171, 151, 292, 4178, 19, 76, 142, 202, 161, 1089, 1278, 19, 76, 193, 10, 4625, 21, 10, 151, 419, 77, 32, 2254, 2847, 2254, 6, 10, 47, 1035, 17, 10, 151, 13311, 3008, 10, 139, 3, 1138, 1904, 12250, 6023, 27, 4462, 60, 61, 2080, 49, 13703, 154, 17, 146, 162, 12, 76, 49, 499, 42, 8364, 10, 339, 51, 3, 3481, 83301, 28, 202]),\n",
       "       list([161, 1153, 19, 178, 1, 357, 619, 77, 2913, 31, 3, 484, 415, 161, 1153, 19, 214, 181, 1379, 64701, 677, 10, 111, 1089, 2058, 2247, 31, 19490, 6, 2064, 4489, 288, 557, 2502, 560, 17401, 476, 42, 12250, 77, 2247, 2607, 2917, 51, 496, 7, 15482, 3192, 3714, 77, 3, 3220, 6357, 548, 3517, 1468, 47, 249, 250, 1235, 3, 6357, 5685, 647, 77, 10861, 3, 469, 729, 2569, 4178, 457, 19, 586, 1569, 1835]),\n",
       "       list([168533, 4322, 1647, 6117, 2569, 4178, 1, 139, 1334, 32, 278, 2569, 4178, 2060, 1089, 243, 10, 623, 62, 77, 42, 511, 10, 151, 28, 154, 3020, 3014, 143, 10797, 10, 8, 11, 203, 32, 2569, 5072, 31, 560, 2284, 87, 44, 10, 408, 12, 10643, 130, 19, 17399, 10, 68, 42, 30726, 8, 2, 7109, 51, 87, 511, 10, 450, 3, 455, 66, 2569, 16014, 1768, 10, 2051, 1364, 4256, 823, 191, 10, 1831, 3, 4396, 168947, 982, 435, 146, 7557, 3204, 10, 2015, 703, 2948, 915, 19, 8, 313, 501, 3, 5801, 49, 356, 42, 12250, 119, 51])],\n",
       "      dtype=object)"
      ]
     },
     "execution_count": 50,
     "metadata": {},
     "output_type": "execute_result"
    }
   ],
   "source": [
    "data"
   ]
  },
  {
   "cell_type": "code",
   "execution_count": 51,
   "metadata": {},
   "outputs": [],
   "source": [
    "window = 2"
   ]
  },
  {
   "cell_type": "code",
   "execution_count": 52,
   "metadata": {},
   "outputs": [],
   "source": [
    "pivot_words = [] #Input Words "
   ]
  },
  {
   "cell_type": "code",
   "execution_count": 53,
   "metadata": {},
   "outputs": [],
   "source": [
    "target_words =[] #Output Words"
   ]
  },
  {
   "cell_type": "code",
   "execution_count": 59,
   "metadata": {},
   "outputs": [],
   "source": [
    "for d in range(data.shape[0]):\n",
    "    pivot_idx = data[d][window:-window]\n",
    "    \n",
    "    for i in range(len(pivot_idx)):\n",
    "        pivot = pivot_idx[i]\n",
    "        \n",
    "        targets = np.array([])\n",
    "        \n",
    "        neg_target = data[d][i : window + i]\n",
    "        pos_target = data[d][i + window + 1 : i + window + window + 1]\n",
    "        \n",
    "        targets= np.append(targets,[neg_target,pos_target]).flatten().tolist()\n",
    "        \n",
    "        for c in range(window*2):\n",
    "            pivot_words.append(pivot)\n",
    "            target_words.append(targets[c])"
   ]
  },
  {
   "cell_type": "code",
   "execution_count": 60,
   "metadata": {},
   "outputs": [
    {
     "data": {
      "text/plain": [
       "[3, 3, 3, 3, 4, 4, 4, 3, 3, 3]"
      ]
     },
     "execution_count": 60,
     "metadata": {},
     "output_type": "execute_result"
    }
   ],
   "source": [
    "pivot_words[:10]\n"
   ]
  },
  {
   "cell_type": "code",
   "execution_count": 62,
   "metadata": {},
   "outputs": [
    {
     "data": {
      "text/plain": [
       "[1.0,\n",
       " 2.0,\n",
       " 4.0,\n",
       " 5.0,\n",
       " [2, 3],\n",
       " [5],\n",
       " 1.0,\n",
       " 2.0,\n",
       " 4.0,\n",
       " 5.0,\n",
       " [2, 3],\n",
       " [5],\n",
       " 1.0,\n",
       " 2.0,\n",
       " 4.0]"
      ]
     },
     "execution_count": 62,
     "metadata": {},
     "output_type": "execute_result"
    }
   ],
   "source": [
    "target_words[:15]"
   ]
  },
  {
   "cell_type": "code",
   "execution_count": 67,
   "metadata": {},
   "outputs": [],
   "source": [
    "embedding_size = 128"
   ]
  },
  {
   "cell_type": "code",
   "execution_count": 70,
   "metadata": {},
   "outputs": [],
   "source": [
    "def word2vec():\n",
    "    #Pivot words\n",
    "    x = tf.placeholder(tf.int32,shape=[None,],name=\"x_pivot_idxs\")\n",
    "    #Target Words\n",
    "    y = tf.placeholder(tf.int32,shape=[None,],name=\"y_target_idxs\")\n",
    "    \n",
    "    \n",
    "    embedding = tf.Variable(tf.random_uniform([vocab_size,embedding_size],-1.0,1.0),name=\"word_embedding\")\n",
    "    \n",
    "    \n",
    "    nce_weights = tf.Variable(tf.truncated_normal([vocab_size,embedding_size],stddev=tf.sqrt(1/embedding_size)),name=\"nce_weights\")\n",
    "    \n",
    "    nce_biases = tf.Variable(tf.zeroes([vocab_size]), name = \"nce_biases\")\n",
    "    \n",
    "    \n",
    "    #lookup pivot word embedding \n",
    "    pivot = tf.nn.embedding_lookup(Embedding, x, name = \"word_embed_lookup\")\n",
    "    \n",
    "    train_labels = tf.reshape(y, [tfshape(y)[0],1])\n",
    "    "
   ]
  },
  {
   "cell_type": "code",
   "execution_count": null,
   "metadata": {},
   "outputs": [],
   "source": []
  }
 ],
 "metadata": {
  "kernelspec": {
   "display_name": "Python 3",
   "language": "python",
   "name": "python3"
  },
  "language_info": {
   "codemirror_mode": {
    "name": "ipython",
    "version": 3
   },
   "file_extension": ".py",
   "mimetype": "text/x-python",
   "name": "python",
   "nbconvert_exporter": "python",
   "pygments_lexer": "ipython3",
   "version": "3.7.5"
  }
 },
 "nbformat": 4,
 "nbformat_minor": 2
}
